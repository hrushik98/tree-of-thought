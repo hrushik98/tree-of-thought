{
  "nbformat": 4,
  "nbformat_minor": 0,
  "metadata": {
    "colab": {
      "provenance": []
    },
    "kernelspec": {
      "name": "python3",
      "display_name": "Python 3"
    },
    "language_info": {
      "name": "python"
    }
  },
  "cells": [
    {
      "cell_type": "code",
      "source": [
        "!pip install openai -q"
      ],
      "metadata": {
        "id": "0xvk_uIjbCGq",
        "colab": {
          "base_uri": "https://localhost:8080/"
        },
        "outputId": "4be7aad0-1398-40d2-898f-73dbee74300f"
      },
      "execution_count": null,
      "outputs": [
        {
          "output_type": "stream",
          "name": "stdout",
          "text": [
            "\u001b[2K     \u001b[90m━━━━━━━━━━━━━━━━━━━━━━━━━━━━━━━━━━━━━━━━\u001b[0m \u001b[32m72.0/72.0 kB\u001b[0m \u001b[31m3.9 MB/s\u001b[0m eta \u001b[36m0:00:00\u001b[0m\n",
            "\u001b[2K     \u001b[90m━━━━━━━━━━━━━━━━━━━━━━━━━━━━━━━━━━━━━━━━\u001b[0m \u001b[32m1.0/1.0 MB\u001b[0m \u001b[31m29.4 MB/s\u001b[0m eta \u001b[36m0:00:00\u001b[0m\n",
            "\u001b[2K     \u001b[90m━━━━━━━━━━━━━━━━━━━━━━━━━━━━━━━━━━━━━━\u001b[0m \u001b[32m114.5/114.5 kB\u001b[0m \u001b[31m12.1 MB/s\u001b[0m eta \u001b[36m0:00:00\u001b[0m\n",
            "\u001b[2K     \u001b[90m━━━━━━━━━━━━━━━━━━━━━━━━━━━━━━━━━━━━━━\u001b[0m \u001b[32m268.8/268.8 kB\u001b[0m \u001b[31m24.4 MB/s\u001b[0m eta \u001b[36m0:00:00\u001b[0m\n",
            "\u001b[2K     \u001b[90m━━━━━━━━━━━━━━━━━━━━━━━━━━━━━━━━━━━━━━\u001b[0m \u001b[32m149.6/149.6 kB\u001b[0m \u001b[31m14.7 MB/s\u001b[0m eta \u001b[36m0:00:00\u001b[0m\n",
            "\u001b[?25h"
          ]
        }
      ]
    },
    {
      "cell_type": "code",
      "source": [
        "import openai\n",
        "openai.api_key = \"\""
      ],
      "metadata": {
        "id": "NsDl-iX2btEG"
      },
      "execution_count": null,
      "outputs": []
    },
    {
      "cell_type": "markdown",
      "source": [
        "#Set threshold value"
      ],
      "metadata": {
        "id": "A_KF4zTLbllp"
      }
    },
    {
      "cell_type": "code",
      "source": [
        "t = 0.1"
      ],
      "metadata": {
        "id": "TFT0QDa_f0Vx"
      },
      "execution_count": null,
      "outputs": []
    },
    {
      "cell_type": "code",
      "source": [
        "# problem = \"How do you serve a single slice of pizza to a 100 people\"\n",
        "# problem = \"What is the easiest hack to manage your time?\"\n",
        "# problem = \"How do you make a spend a billion dollars in a single day?\"\n",
        "problem = \"I have $100 in the bank. What is the one thing that I should buy for myself?\"\n",
        "# problem = \"I have $100 in the bank. Discuss vaious ways I can use it to help people in need.\"\n",
        "# problem = \"What's the one thing that I should buy right now, that I will be thankful for in the future?\""
      ],
      "metadata": {
        "id": "lm1PFkP_X0UG"
      },
      "execution_count": null,
      "outputs": []
    },
    {
      "cell_type": "code",
      "source": [
        "system_content = f\"\"\"\n",
        "You are a logical and problem solver genius. Given a problem you always find the best and most simple and obvious solution.\n",
        "Always break down the problem, objects, numbers and logic before starting to solve the problem in a step-by-step way.\n",
        "Find the simplest and most efficient way to solve the problem. \n",
        "For any given Problem, please consider three solutions. Make sure that the context of the new solutions is unique with each other. \n",
        "Don't repeat the solutions.  For each solution, generate a score to measure the efficiency to solve the problem. Then compare the scores to find out the best solution. Explain the best solution step-by-step. \n",
        "Here is the problem: {problem}\n",
        "\n",
        "Here is an example of how to generate a score to the solution.\n",
        "Don't give the answer in bullet points, but in paragraphs.\n",
        "\n",
        "Score: <score>\n",
        "Answer: <answer>\n",
        "The score and answer should be inline.\n",
        "\n",
        "Score should be on a scale of 0 to 10. Higher the value, greater the priority to that answer. \n",
        "\n",
        "Example problem: How to solve global warming?\n",
        "Score 1: 8.5\n",
        "Answer 1: Implement a combination of policies and initiatives that promote clean energy, reduce greenhouse gas emissions, and encourage sustainable practices. This can include transitioning to renewable energy sources like solar, wind, and hydroelectric power; improving public transportation and promoting electric vehicles; increasing energy efficiency in buildings and appliances; encouraging reforestation and afforestation efforts; and implementing carbon pricing to incentivize businesses and individuals to reduce their emissions.\n",
        "Score 2: 6.5\n",
        "Answer 2: Drive innovation and advancements in carbon capture and storage technology. Expand research and development funding to find new ways of capturing and storing excess carbon dioxide from the atmosphere, allowing us to mitigate the effects of global warming without drastic changes to our current way of life. However, this solution alone cannot fully address the problem and should be combined with other efforts to reduce overall emissions.\n",
        "Score 3: 3.5\n",
        "Answer 3: Geoengineering or climate engineering to counteract global warming. This could involve intentional large-scale modifications to the Earth's environment, such as solar radiation management or ocean fertilization. Although these ideas could potentially help address global warming, they pose significant risks and uncertainties, including unintended ecosystem disruptions and geopolitical conflicts arising from differing interests in climate modification technologies.\n",
        "\"\"\""
      ],
      "metadata": {
        "id": "8k3F0xSbcD84"
      },
      "execution_count": null,
      "outputs": []
    },
    {
      "cell_type": "code",
      "source": [
        "user_content = \"\"\"\n",
        "Score 1:\n",
        "Answer 1:\n",
        "\n",
        "Score 2:\n",
        "Answer 2:\n",
        "\n",
        "Score 3:\n",
        "Answer 3:\n",
        "\n",
        "\"\"\""
      ],
      "metadata": {
        "id": "nljNsEqVXU6y"
      },
      "execution_count": null,
      "outputs": []
    },
    {
      "cell_type": "code",
      "source": [
        "winning_scores = []\n",
        "winning_answers = []\n",
        "\n",
        "def percentage_error(y1, y2):\n",
        "    return abs(y1 - y2) / y1 * 100"
      ],
      "metadata": {
        "id": "oZ0CLetvlI2E"
      },
      "execution_count": null,
      "outputs": []
    },
    {
      "cell_type": "code",
      "source": [
        "import re\n",
        "for i in range(0, 10):\n",
        "  try:\n",
        "    m1 = [{\"role\": \"system\", \"content\": f\"{system_content}\"},\n",
        "          {\"role\": \"user\", \"content\": f\"{user_content}\"}]        \n",
        "    result = openai.ChatCompletion.create(\n",
        "        model=\"gpt-3.5-turbo\",\n",
        "        max_tokens = 1000,\n",
        "        temperature =0.8,\n",
        "        messages=m1)\n",
        "    response = result[\"choices\"][0]['message']['content']\n",
        "    break\n",
        "  except:\n",
        "    continue\n",
        "\n",
        "\n",
        "pattern = r'Score 1: (.|\\n)*'\n",
        "\n",
        "match = re.search(pattern, response)\n",
        "\n",
        "if match:\n",
        "  trimmed_text = match.group()\n",
        "  text = trimmed_text\n",
        "else:\n",
        "  text = response\n",
        "\n",
        "\n",
        "loss = 10\n",
        "\n",
        "\n",
        "score_pattern = r\"Score \\d+: (.+)\"\n",
        "answer_pattern = r\"Answer \\d+: (.+)\"\n",
        "\n",
        "scores = re.findall(score_pattern, text)\n",
        "answers = re.findall(answer_pattern, text)\n",
        "final_score_index = scores.index(max(scores))\n",
        "final_score = max(scores)\n",
        "final_answer = answers[final_score_index]\n",
        "\n",
        "winning_scores.append(final_score)\n",
        "winning_answers.append(final_answer)\n",
        "print(final_answer)\n",
        "\n",
        "i = 0\n",
        "while loss>t:\n",
        "  try:\n",
        "\n",
        "    system_content2 = f\"\"\"\n",
        "    You are a logical and problem solver genius. Given a problem you always find the best and most simple and obvious solution.\n",
        "    Always break down the problem, objects, numbers and logic before starting to solve the problem in a step-by-step way.\n",
        "    Find the simplest and most efficient way to solve the problem. \n",
        "    For any given Problem, please generate two more solutions. Make sure that the context of the new solutions is unique with each other.\n",
        "    Don't repeat any solutions. Don't generate solutions that are alike to each other. The new solutions have to be completely unique.\n",
        "    For each solution, generate a score to measure the efficiency to solve the problem. Then compare the scores to find out the best solution. Explain the best solution step-by-step. \n",
        "    Here is the problem: {problem}\n",
        "    Here is a possible solution: {winning_answers[i]}\n",
        "\n",
        "    Here is an example of how to generate a score to the solution.\n",
        "    Don't give the answer in bullet points, but in paragraphs.\n",
        "\n",
        "    Score: <score>\n",
        "    Answer: <answer>\n",
        "    The score and answer should be inline.\n",
        "\n",
        "    Score should be on a scale of 0 to 10. Higher the value, greater the priority to that answer. \n",
        "\n",
        "    Example problem: How to solve global warming?\n",
        "    Score 1: 8.5\n",
        "    Answer 1: Implement a combination of policies and initiatives that promote clean energy, reduce greenhouse gas emissions, and encourage sustainable practices. This can include transitioning to renewable energy sources like solar, wind, and hydroelectric power; improving public transportation and promoting electric vehicles; increasing energy efficiency in buildings and appliances; encouraging reforestation and afforestation efforts; and implementing carbon pricing to incentivize businesses and individuals to reduce their emissions.\n",
        "    Score 2: 6.5\n",
        "    Answer 2: Drive innovation and advancements in carbon capture and storage technology. Expand research and development funding to find new ways of capturing and storing excess carbon dioxide from the atmosphere, allowing us to mitigate the effects of global warming without drastic changes to our current way of life. However, this solution alone cannot fully address the problem and should be combined with other efforts to reduce overall emissions.\n",
        "    Score 3: 3.5\n",
        "    Answer 3: Geoengineering or climate engineering to counteract global warming. This could involve intentional large-scale modifications to the Earth's environment, such as solar radiation management or ocean fertilization. Although these ideas could potentially help address global warming, they pose significant risks and uncertainties, including unintended ecosystem disruptions and geopolitical conflicts arising from differing interests in climate modification technologies.\n",
        "    \"\"\"\n",
        "\n",
        "    assistant_content = \"\"\n",
        "    for answer in winning_answers:\n",
        "      assistant_content = assistant_content + f\"\\n{answer}\"\n",
        "        \n",
        "    m1 = [{\"role\": \"system\", \"content\": f\"{system_content2}\"},\n",
        "          {\"role\": \"assistant\", \"content\": f\"Previous generated solutions: {assistant_content}\"},\n",
        "        {\"role\": \"user\", \"content\": f\"{user_content}\"}]        \n",
        "    result = openai.ChatCompletion.create(\n",
        "        model=\"gpt-3.5-turbo\",\n",
        "        max_tokens = 512,\n",
        "        temperature =0.3,\n",
        "        messages=m1)\n",
        "    response = result[\"choices\"][0]['message']['content']\n",
        "  except:\n",
        "    i = i\n",
        "\n",
        "  pattern = r'Score 1: (.|\\n)*'\n",
        "\n",
        "  match = re.search(pattern, response)\n",
        "\n",
        "  if match:\n",
        "    trimmed_text = match.group()\n",
        "    text = trimmed_text\n",
        "    \n",
        "  else:\n",
        "    text = response\n",
        "    \n",
        "  scores = re.findall(score_pattern, text)\n",
        "  answers = re.findall(answer_pattern, text)\n",
        "  final_score_index = scores.index(max(scores))\n",
        "  final_score = max(scores)\n",
        "  final_answer = answers[final_score_index]\n",
        "  winning_scores.append(final_score)\n",
        "  winning_answers.append(final_answer)\n",
        "  loss = percentage_error(float(winning_scores[i+1]), float(winning_scores[i]))\n",
        "  print(\"loss:\", loss)\n",
        "  print(\"winning answer: \", winning_answers[i+1])\n",
        "  i = i+1\n",
        "\n",
        "print(\"\\n\\nfinal answer:\")\n",
        "print(winning_answers[-1])\n",
        "  \n",
        "\n",
        "\n",
        "\n",
        "\n",
        "\n"
      ],
      "metadata": {
        "colab": {
          "base_uri": "https://localhost:8080/"
        },
        "id": "bgPDUJoScEEr",
        "outputId": "fe81d064-5f52-41ad-fe2c-ef9b4faca18d"
      },
      "execution_count": null,
      "outputs": [
        {
          "output_type": "stream",
          "name": "stdout",
          "text": [
            "The one thing that you should buy for yourself with $100 in the bank depends on your personal needs and priorities. However, one practical and beneficial item to consider is a reusable water bottle. Not only will this help you stay hydrated on-the-go, but it also reduces your environmental impact by minimizing the use of single-use plastic bottles. Additionally, you can find high-quality reusable water bottles for under $100, allowing you to use the remaining money for other important expenses.\n",
            "loss: 0.0\n",
            "winning answer:  Invest in a good quality pair of shoes. A comfortable and durable pair of shoes can make a big difference in your daily life, whether you are walking to work, running errands, or exercising. Not only will they provide support and reduce the risk of injury, but they can also boost your confidence and improve your overall well-being. With $100, you can find a high-quality pair of shoes that will last for years to come.\n",
            "\n",
            "\n",
            "final answer:\n",
            "Invest in a good quality pair of shoes. A comfortable and durable pair of shoes can make a big difference in your daily life, whether you are walking to work, running errands, or exercising. Not only will they provide support and reduce the risk of injury, but they can also boost your confidence and improve your overall well-being. With $100, you can find a high-quality pair of shoes that will last for years to come.\n"
          ]
        }
      ]
    },
    {
      "cell_type": "code",
      "source": [
        "#run this cell in case of error to check the ouput to see if it's in the specified format or not. \n",
        "text"
      ],
      "metadata": {
        "id": "1GrKhdI1e4b_"
      },
      "execution_count": null,
      "outputs": []
    },
    {
      "cell_type": "code",
      "source": [],
      "metadata": {
        "id": "xSk8uV4gcVur"
      },
      "execution_count": null,
      "outputs": []
    }
  ]
}